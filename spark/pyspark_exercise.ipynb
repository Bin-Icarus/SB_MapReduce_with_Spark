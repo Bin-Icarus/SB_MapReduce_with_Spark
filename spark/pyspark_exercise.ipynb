{
 "cells": [
  {
   "cell_type": "markdown",
   "metadata": {},
   "source": [
    "# MapReduce using SPARK"
   ]
  },
  {
   "cell_type": "code",
   "execution_count": 22,
   "metadata": {},
   "outputs": [
    {
     "name": "stdout",
     "output_type": "stream",
     "text": [
      "Populating the interactive namespace from numpy and matplotlib\n"
     ]
    }
   ],
   "source": [
    "%pylab inline\n",
    "import pandas as pd\n",
    "import seaborn as sns\n",
    "pd.set_option('display.width', 500)\n",
    "pd.set_option('display.max_columns', 100)"
   ]
  },
  {
   "cell_type": "markdown",
   "metadata": {},
   "source": [
    "# Table of Contents\n",
    "\n",
    "* [SPARK](#SPARK)\n",
    "    * Installing Spark locally\n",
    "* [Spark Context](#Spark-Context)\n",
    "    * [Create A RDD](#Create-A-RDD)\n",
    "    * [Call `collect` on an RDD: Lazy Spark](#Call-collect-on-an-RDD:-Lazy-Spark)\n",
    "    * [Operations on RDDs](#Operations-on-RDDs)\n",
    "    * [Word Examples](#Word-Examples)\n",
    "    * [Key Value Pairs](#Key-Value-Pairs)\n",
    "    * [word count 1](#word-count-1)\n",
    "    * [word count 2:  `reduceByKey()`](#word-count-2:--reduceByKey%28%29)\n",
    "    * [Nested Syntax](#Nested-Syntax)\n",
    "    * [Using Cache](#Using-Cache)\n",
    "    * [Fun with words](#Fun-with-words)\n",
    "    * [DataFrames](#DataFrames)\n",
    "    * [Machine Learning](#Machine-Learning)\n"
   ]
  },
  {
   "cell_type": "markdown",
   "metadata": {
    "slideshow": {
     "slide_type": "slide"
    }
   },
   "source": [
    "With shameless stealing of some code and text from:\n",
    "\n",
    "- https://github.com/tdhopper/rta-pyspark-presentation/blob/master/slides.ipynb\n",
    "- Databricks and Berkeley Spark MOOC: https://www.edx.org/course/introduction-big-data-apache-spark-uc-berkeleyx-cs100-1x\n",
    "\n",
    "which you should go check out."
   ]
  },
  {
   "cell_type": "markdown",
   "metadata": {},
   "source": [
    "## Installing Spark locally\n",
    "\n",
    "\n",
    "**Step 1: Install Apache Spark**\n",
    "\n",
    "For example, for Mac users using Homebrew:\n",
    "\n",
    "```\n",
    "$ brew install apache-spark\n",
    "```"
   ]
  },
  {
   "cell_type": "markdown",
   "metadata": {},
   "source": [
    "**Step 2: Install the Java SDK version 1.8 or above for your platform (not just the JRE runtime)**\n",
    "\n",
    "Make sure you can access commands such as `java` on your command line."
   ]
  },
  {
   "cell_type": "markdown",
   "metadata": {},
   "source": [
    "**Step 3: Install the latest findspark package using pip**\n",
    "\n",
    "```\n",
    "➜  ~  pip install findspark\n",
    "Collecting findspark\n",
    "  Downloading findspark-0.0.5-py2.py3-none-any.whl\n",
    "Installing collected packages: findspark\n",
    "Successfully installed findspark-0.0.5\n",
    "```"
   ]
  },
  {
   "cell_type": "markdown",
   "metadata": {
    "slideshow": {
     "slide_type": "slide"
    }
   },
   "source": [
    "# Spark Context\n",
    "\n",
    "You can also use it directly from the notebook interface on the mac if you installed `apache-spark` using `brew` and also installed `findspark` above."
   ]
  },
  {
   "cell_type": "code",
   "execution_count": 35,
   "metadata": {},
   "outputs": [
    {
     "data": {
      "text/plain": [
       "'C:\\\\Users\\\\Alexander\\\\Anaconda3\\\\Scripts\\\\1520302601_dsc_spark_mini_project\\\\spark'"
      ]
     },
     "execution_count": 35,
     "metadata": {},
     "output_type": "execute_result"
    }
   ],
   "source": [
    "import os\n",
    "os.getcwd()"
   ]
  },
  {
   "cell_type": "code",
   "execution_count": 47,
   "metadata": {
    "scrolled": true
   },
   "outputs": [],
   "source": [
    "import findspark\n",
    "findspark.init(\"C:\\\\Users\\Alexander\\spark\\spark\")\n",
    "import pyspark\n",
    "sc = pyspark.SparkContext()"
   ]
  },
  {
   "cell_type": "markdown",
   "metadata": {},
   "source": [
    "It also outputs a bunch of stuff on my terminal. This is because the entire java context is started up.\n",
    "\n",
    "```Using Spark's default log4j profile: org/apache/spark/log4j-defaults.properties\n",
    "15/10/21 14:46:15 INFO SparkContext: Running Spark version 1.4.0\n",
    "2015-10-21 14:46:15.774 java[30685:c003] Unable to load realm info from SCDynamicStore\n",
    "15/10/21 14:46:15 WARN NativeCodeLoader: Unable to load native-hadoop library for your platform... using builtin-java classes where applicable\n",
    "15/10/21 14:46:15 INFO SecurityManager: Changing view acls to: rahul\n",
    "15/10/21 14:46:15 INFO SecurityManager: Changing modify acls to: rahul\n",
    "15/10/21 14:46:15 INFO SecurityManager: SecurityManager: authentication disabled; ui acls disabled; users with view permissions: Set(rahul); users with modify permissions: Set(rahul)\n",
    "15/10/21 14:46:16 INFO Slf4jLogger: Slf4jLogger started\n",
    "15/10/21 14:46:16 INFO Remoting: Starting remoting\n",
    "15/10/21 14:46:16 INFO Remoting: Remoting started; listening on addresses :[akka.tcp://sparkDriver@10.251.101.163:64359]\n",
    "15/10/21 14:46:16 INFO Utils: Successfully started service 'sparkDriver' on port 64359.\n",
    "15/10/21 14:46:16 INFO SparkEnv: Registering MapOutputTracker\n",
    "15/10/21 14:46:16 INFO SparkEnv: Registering BlockManagerMaster\n",
    "15/10/21 14:46:16 INFO DiskBlockManager: Created local directory at /private/var/folders/_f/y76rs29s3c57ykwyz9c8z12c0000gn/T/spark-00a4e09e-e5db-485f-81dc-2e5016e9a27e/blockmgr-8966e07c-223b-4c38-9273-11543aa9d3c1\n",
    "15/10/21 14:46:16 INFO MemoryStore: MemoryStore started with capacity 273.0 MB\n",
    "15/10/21 14:46:16 INFO HttpFileServer: HTTP File server directory is /private/var/folders/_f/y76rs29s3c57ykwyz9c8z12c0000gn/T/spark-00a4e09e-e5db-485f-81dc-2e5016e9a27e/httpd-6af0a9e0-1cfe-42c4-a1bd-e01715b98436\n",
    "15/10/21 14:46:16 INFO HttpServer: Starting HTTP Server\n",
    "15/10/21 14:46:17 INFO Utils: Successfully started service 'HTTP file server' on port 64360.\n",
    "15/10/21 14:46:17 INFO SparkEnv: Registering OutputCommitCoordinator\n",
    "15/10/21 14:46:18 INFO Utils: Successfully started service 'SparkUI' on port 4040.\n",
    "15/10/21 14:46:18 INFO SparkUI: Started SparkUI at http://10.251.101.163:4040\n",
    "15/10/21 14:46:18 INFO Executor: Starting executor ID driver on host localhost\n",
    "15/10/21 14:46:18 INFO Utils: Successfully started service 'org.apache.spark.network.netty.NettyBlockTransferService' on port 64361.\n",
    "15/10/21 14:46:18 INFO NettyBlockTransferService: Server created on 64361\n",
    "15/10/21 14:46:18 INFO BlockManagerMaster: Trying to register BlockManager\n",
    "15/10/21 14:46:18 INFO BlockManagerMasterEndpoint: Registering block manager localhost:64361 with 273.0 MB RAM, BlockManagerId(driver, localhost, 64361)\n",
    "15/10/21 14:46:18 INFO BlockManagerMaster: Registered BlockManager\n",
    "```"
   ]
  },
  {
   "cell_type": "code",
   "execution_count": 48,
   "metadata": {},
   "outputs": [
    {
     "data": {
      "text/html": [
       "\n",
       "        <div>\n",
       "            <p><b>SparkContext</b></p>\n",
       "\n",
       "            <p><a href=\"http://192.168.0.5:4040\">Spark UI</a></p>\n",
       "\n",
       "            <dl>\n",
       "              <dt>Version</dt>\n",
       "                <dd><code>v2.3.0</code></dd>\n",
       "              <dt>Master</dt>\n",
       "                <dd><code>local[*]</code></dd>\n",
       "              <dt>AppName</dt>\n",
       "                <dd><code>pyspark-shell</code></dd>\n",
       "            </dl>\n",
       "        </div>\n",
       "        "
      ],
      "text/plain": [
       "<SparkContext master=local[*] appName=pyspark-shell>"
      ]
     },
     "execution_count": 48,
     "metadata": {},
     "output_type": "execute_result"
    }
   ],
   "source": [
    "sc"
   ]
  },
  {
   "cell_type": "code",
   "execution_count": 49,
   "metadata": {},
   "outputs": [
    {
     "data": {
      "text/plain": [
       "385"
      ]
     },
     "execution_count": 49,
     "metadata": {},
     "output_type": "execute_result"
    }
   ],
   "source": [
    "sc.parallelize([1, 2, 3, 4, 5, 6, 7, 8, 9, 10]).map(lambda x: x**2).sum()"
   ]
  },
  {
   "cell_type": "markdown",
   "metadata": {
    "slideshow": {
     "slide_type": "slide"
    }
   },
   "source": [
    "### Create A RDD\n"
   ]
  },
  {
   "cell_type": "code",
   "execution_count": 51,
   "metadata": {},
   "outputs": [
    {
     "name": "stdout",
     "output_type": "stream",
     "text": [
      "<class 'pyspark.rdd.RDD'>\n"
     ]
    }
   ],
   "source": [
    "wordsList = ['cat', 'elephant', 'rat', 'rat', 'cat']\n",
    "wordsRDD = sc.parallelize(wordsList, 4)\n",
    "# Print out the type of wordsRDD\n",
    "print(type(wordsRDD))"
   ]
  },
  {
   "cell_type": "markdown",
   "metadata": {
    "slideshow": {
     "slide_type": "slide"
    }
   },
   "source": [
    "### Call `collect` on an RDD: Lazy Spark"
   ]
  },
  {
   "cell_type": "markdown",
   "metadata": {},
   "source": [
    "Spark is lazy. Until you `collect`, nothing is actually run.\n",
    "\n",
    ">Instead, they just remember the transformations applied to some base dataset (e.g. a file). The transformations are only computed when an action requires a result to be returned to the driver program."
   ]
  },
  {
   "cell_type": "code",
   "execution_count": 52,
   "metadata": {},
   "outputs": [
    {
     "data": {
      "text/plain": [
       "['cat', 'elephant', 'rat', 'rat', 'cat']"
      ]
     },
     "execution_count": 52,
     "metadata": {},
     "output_type": "execute_result"
    }
   ],
   "source": [
    "wordsRDD.collect()"
   ]
  },
  {
   "cell_type": "markdown",
   "metadata": {},
   "source": [
    "```\n",
    "15/10/21 14:59:59 INFO SparkContext: Starting job: collect at <ipython-input-6-dee494da0714>:1\n",
    "15/10/21 14:59:59 INFO DAGScheduler: Got job 0 (collect at <ipython-input-6-dee494da0714>:1) with 4 output partitions (allowLocal=false)\n",
    "15/10/21 14:59:59 INFO DAGScheduler: Final stage: ResultStage 0(collect at <ipython-input-6-dee494da0714>:1)\n",
    "15/10/21 14:59:59 INFO DAGScheduler: Parents of final stage: List()\n",
    "15/10/21 14:59:59 INFO DAGScheduler: Missing parents: List()\n",
    "15/10/21 14:59:59 INFO DAGScheduler: Submitting ResultStage 0 (ParallelCollectionRDD[0] at parallelize at PythonRDD.scala:396), which has no missing parents\n",
    "15/10/21 15:00:00 INFO MemoryStore: ensureFreeSpace(1224) called with curMem=0, maxMem=286300569\n",
    "15/10/21 15:00:00 INFO MemoryStore: Block broadcast_0 stored as values in memory (estimated size 1224.0 B, free 273.0 MB)\n",
    "15/10/21 15:00:00 INFO MemoryStore: ensureFreeSpace(777) called with curMem=1224, maxMem=286300569\n",
    "15/10/21 15:00:00 INFO MemoryStore: Block broadcast_0_piece0 stored as bytes in memory (estimated size 777.0 B, free 273.0 MB)\n",
    "15/10/21 15:00:00 INFO BlockManagerInfo: Added broadcast_0_piece0 in memory on localhost:64361 (size: 777.0 B, free: 273.0 MB)\n",
    "15/10/21 15:00:00 INFO SparkContext: Created broadcast 0 from broadcast at DAGScheduler.scala:874\n",
    "15/10/21 15:00:00 INFO DAGScheduler: Submitting 4 missing tasks from ResultStage 0 (ParallelCollectionRDD[0] at parallelize at PythonRDD.scala:396)\n",
    "15/10/21 15:00:00 INFO TaskSchedulerImpl: Adding task set 0.0 with 4 tasks\n",
    "15/10/21 15:00:00 INFO TaskSetManager: Starting task 0.0 in stage 0.0 (TID 0, localhost, PROCESS_LOCAL, 1379 bytes)\n",
    "15/10/21 15:00:00 INFO TaskSetManager: Starting task 1.0 in stage 0.0 (TID 1, localhost, PROCESS_LOCAL, 1384 bytes)\n",
    "15/10/21 15:00:00 INFO TaskSetManager: Starting task 2.0 in stage 0.0 (TID 2, localhost, PROCESS_LOCAL, 1379 bytes)\n",
    "15/10/21 15:00:00 INFO TaskSetManager: Starting task 3.0 in stage 0.0 (TID 3, localhost, PROCESS_LOCAL, 1403 bytes)\n",
    "15/10/21 15:00:00 INFO Executor: Running task 0.0 in stage 0.0 (TID 0)\n",
    "15/10/21 15:00:00 INFO Executor: Running task 2.0 in stage 0.0 (TID 2)\n",
    "15/10/21 15:00:00 INFO Executor: Running task 1.0 in stage 0.0 (TID 1)\n",
    "15/10/21 15:00:00 INFO Executor: Running task 3.0 in stage 0.0 (TID 3)\n",
    "15/10/21 15:00:00 INFO Executor: Finished task 1.0 in stage 0.0 (TID 1). 646 bytes result sent to driver\n",
    "15/10/21 15:00:00 INFO Executor: Finished task 3.0 in stage 0.0 (TID 3). 665 bytes result sent to driver\n",
    "15/10/21 15:00:00 INFO Executor: Finished task 0.0 in stage 0.0 (TID 0). 641 bytes result sent to driver\n",
    "15/10/21 15:00:00 INFO Executor: Finished task 2.0 in stage 0.0 (TID 2). 641 bytes result sent to driver\n",
    "15/10/21 15:00:00 INFO TaskSetManager: Finished task 1.0 in stage 0.0 (TID 1) in 61 ms on localhost (1/4)\n",
    "15/10/21 15:00:00 INFO TaskSetManager: Finished task 3.0 in stage 0.0 (TID 3) in 60 ms on localhost (2/4)\n",
    "15/10/21 15:00:00 INFO TaskSetManager: Finished task 0.0 in stage 0.0 (TID 0) in 96 ms on localhost (3/4)\n",
    "15/10/21 15:00:00 INFO TaskSetManager: Finished task 2.0 in stage 0.0 (TID 2) in 63 ms on localhost (4/4)\n",
    "15/10/21 15:00:00 INFO DAGScheduler: ResultStage 0 (collect at <ipython-input-6-dee494da0714>:1) finished in 0.120 s\n",
    "15/10/21 15:00:00 INFO TaskSchedulerImpl: Removed TaskSet 0.0, whose tasks have all completed, from pool\n",
    "15/10/21 15:00:00 INFO DAGScheduler: Job 0 finished: collect at <ipython-input-6-dee494da0714>:1, took 0.872367 s\n",
    "```"
   ]
  },
  {
   "cell_type": "markdown",
   "metadata": {},
   "source": [
    "### Operations on RDDs"
   ]
  },
  {
   "cell_type": "markdown",
   "metadata": {},
   "source": [
    "From the Spark Programming Guide:\n",
    "\n",
    ">RDDs support two types of operations: transformations, which create a new dataset from an existing one, and actions, which return a value to the driver program after running a computation on the dataset. For example, map is a transformation that passes each dataset element through a function and returns a new RDD representing the results. On the other hand, reduce is an action that aggregates all the elements of the RDD using some function and returns the final result to the driver program (although there is also a parallel reduceByKey that returns a distributed dataset)."
   ]
  },
  {
   "cell_type": "markdown",
   "metadata": {},
   "source": [
    "### Word Examples"
   ]
  },
  {
   "cell_type": "code",
   "execution_count": 54,
   "metadata": {},
   "outputs": [
    {
     "name": "stdout",
     "output_type": "stream",
     "text": [
      "cats\n"
     ]
    }
   ],
   "source": [
    "def makePlural(word):\n",
    "    return word + 's'\n",
    "\n",
    "print(makePlural('cat'))"
   ]
  },
  {
   "cell_type": "markdown",
   "metadata": {},
   "source": [
    "Transform one RDD into another."
   ]
  },
  {
   "cell_type": "code",
   "execution_count": 57,
   "metadata": {},
   "outputs": [
    {
     "name": "stdout",
     "output_type": "stream",
     "text": [
      "cats\n",
      "['cats', 'elephants']\n"
     ]
    }
   ],
   "source": [
    "pluralRDD = wordsRDD.map(makePlural)\n",
    "print(pluralRDD.first())\n",
    "print(pluralRDD.take(2))\n"
   ]
  },
  {
   "cell_type": "code",
   "execution_count": 58,
   "metadata": {},
   "outputs": [
    {
     "data": {
      "text/plain": [
       "['cats']"
      ]
     },
     "execution_count": 58,
     "metadata": {},
     "output_type": "execute_result"
    }
   ],
   "source": [
    "pluralRDD.take(1)"
   ]
  },
  {
   "cell_type": "code",
   "execution_count": 59,
   "metadata": {},
   "outputs": [
    {
     "data": {
      "text/plain": [
       "['cats', 'elephants', 'rats', 'rats', 'cats']"
      ]
     },
     "execution_count": 59,
     "metadata": {},
     "output_type": "execute_result"
    }
   ],
   "source": [
    "pluralRDD.collect()"
   ]
  },
  {
   "cell_type": "markdown",
   "metadata": {
    "slideshow": {
     "slide_type": "slide"
    }
   },
   "source": [
    "### Key Value Pairs"
   ]
  },
  {
   "cell_type": "code",
   "execution_count": 61,
   "metadata": {},
   "outputs": [
    {
     "name": "stdout",
     "output_type": "stream",
     "text": [
      "[('cat', 1), ('elephant', 1), ('rat', 1), ('rat', 1), ('cat', 1)]\n"
     ]
    }
   ],
   "source": [
    "wordPairs = wordsRDD.map(lambda w: (w, 1))\n",
    "print(wordPairs.collect())"
   ]
  },
  {
   "cell_type": "markdown",
   "metadata": {},
   "source": [
    "```\n",
    "➜  sparklect  ps auxwww | grep pyspark\n",
    "rahul           30685   0.4  0.8  3458120  68712 s012  S+    2:46PM   2:00.21 /System/Library/Java/JavaVirtualMachines/1.6.0.jdk/Contents/Home/bin/java -cp /usr/local/opt/apache-spark/libexec/conf/:/usr/local/opt/apache-spark/libexec/lib/spark-assembly-1.4.0-hadoop2.6.0.jar:/usr/local/opt/apache-spark/libexec/lib/datanucleus-api-jdo-3.2.6.jar:/usr/local/opt/apache-spark/libexec/lib/datanucleus-core-3.2.10.jar:/usr/local/opt/apache-spark/libexec/lib/datanucleus-rdbms-3.2.9.jar -Xms512m -Xmx512m -XX:MaxPermSize=128m org.apache.spark.deploy.SparkSubmit pyspark-shell\n",
    "rahul           31520   0.0  0.0  2432784    480 s011  R+    6:42PM   0:00.00 grep --color=auto --exclude-dir=.bzr --exclude-dir=.cvs --exclude-dir=.git --exclude-dir=.hg --exclude-dir=.svn pyspark\n",
    "rahul           31494   0.0  0.7  2548972  57288 s012  S     6:41PM   0:00.10 python -m pyspark.daemon\n",
    "rahul           31493   0.0  0.7  2548972  57308 s012  S     6:41PM   0:00.10 python -m pyspark.daemon\n",
    "rahul           31492   0.0  0.7  2548972  57288 s012  S     6:41PM   0:00.11 python -m pyspark.daemon\n",
    "rahul           31446   0.0  0.8  2548972  68460 s012  S     6:35PM   0:01.34 python -m pyspark.daemon\n",
    "```"
   ]
  },
  {
   "cell_type": "markdown",
   "metadata": {
    "slideshow": {
     "slide_type": "slide"
    }
   },
   "source": [
    "### WORD COUNT!\n",
    "\n",
    "This little exercise shows how to use mapreduce to calculate the counts of individual words in a list."
   ]
  },
  {
   "cell_type": "code",
   "execution_count": 63,
   "metadata": {},
   "outputs": [
    {
     "name": "stdout",
     "output_type": "stream",
     "text": [
      "[('cat', 2), ('elephant', 1), ('rat', 2)]\n"
     ]
    }
   ],
   "source": [
    "wordsList = ['cat', 'elephant', 'rat', 'rat', 'cat']\n",
    "wordsRDD = sc.parallelize(wordsList, 4)\n",
    "wordCountsCollected = (wordsRDD\n",
    "                       .map(lambda w: (w, 1))\n",
    "                       .reduceByKey(lambda x,y: x+y)\n",
    "                       .collect())\n",
    "print(wordCountsCollected)"
   ]
  },
  {
   "cell_type": "markdown",
   "metadata": {
    "slideshow": {
     "slide_type": "slide"
    }
   },
   "source": [
    "![Tons of shuffling](https://databricks.gitbooks.io/databricks-spark-knowledge-base/content/images/reduce_by.png)"
   ]
  },
  {
   "cell_type": "code",
   "execution_count": 65,
   "metadata": {},
   "outputs": [
    {
     "name": "stdout",
     "output_type": "stream",
     "text": [
      "b'(4) PythonRDD[25] at RDD at PythonRDD.scala:48 []\\n |  MapPartitionsRDD[24] at mapPartitions at PythonRDD.scala:122 []\\n |  ShuffledRDD[23] at partitionBy at <unknown>:0 []\\n +-(4) PairwiseRDD[22] at reduceByKey at <ipython-input-65-a46b488739a0>:3 []\\n    |  PythonRDD[21] at reduceByKey at <ipython-input-65-a46b488739a0>:3 []\\n    |  ParallelCollectionRDD[10] at parallelize at PythonRDD.scala:175 []'\n"
     ]
    }
   ],
   "source": [
    "print((wordsRDD\n",
    "    .map(lambda w: (w, 1))\n",
    "    .reduceByKey(lambda x,y: x+y)).toDebugString())"
   ]
  },
  {
   "cell_type": "markdown",
   "metadata": {
    "slideshow": {
     "slide_type": "slide"
    }
   },
   "source": [
    "### Using Cache"
   ]
  },
  {
   "cell_type": "code",
   "execution_count": 67,
   "metadata": {},
   "outputs": [
    {
     "name": "stdout",
     "output_type": "stream",
     "text": [
      "ParallelCollectionRDD[26] at parallelize at PythonRDD.scala:175\n"
     ]
    },
    {
     "data": {
      "text/plain": [
       "5"
      ]
     },
     "execution_count": 67,
     "metadata": {},
     "output_type": "execute_result"
    }
   ],
   "source": [
    "wordsList = ['cat', 'elephant', 'rat', 'rat', 'cat']\n",
    "wordsRDD = sc.parallelize(wordsList, 4)\n",
    "print(wordsRDD)\n",
    "wordsRDD.count()"
   ]
  },
  {
   "cell_type": "markdown",
   "metadata": {},
   "source": [
    "Normally, every operation is run from the start. This may be inefficient in many cases. So when appropriate, we may want to cache the result the first time an operation is run on an RDD."
   ]
  },
  {
   "cell_type": "code",
   "execution_count": 68,
   "metadata": {},
   "outputs": [
    {
     "data": {
      "text/plain": [
       "5"
      ]
     },
     "execution_count": 68,
     "metadata": {},
     "output_type": "execute_result"
    }
   ],
   "source": [
    "#this is rerun from the start\n",
    "wordsRDD.count()"
   ]
  },
  {
   "cell_type": "code",
   "execution_count": 69,
   "metadata": {},
   "outputs": [
    {
     "data": {
      "text/plain": [
       "ParallelCollectionRDD[26] at parallelize at PythonRDD.scala:175"
      ]
     },
     "execution_count": 69,
     "metadata": {},
     "output_type": "execute_result"
    }
   ],
   "source": [
    "#default storage level (MEMORY_ONLY)\n",
    "wordsRDD.cache()#nothing done this is still lazy"
   ]
  },
  {
   "cell_type": "code",
   "execution_count": 70,
   "metadata": {},
   "outputs": [
    {
     "data": {
      "text/plain": [
       "5"
      ]
     },
     "execution_count": 70,
     "metadata": {},
     "output_type": "execute_result"
    }
   ],
   "source": [
    "#parallelize is rerun and cached because we told it to cache\n",
    "wordsRDD.count()"
   ]
  },
  {
   "cell_type": "code",
   "execution_count": 71,
   "metadata": {},
   "outputs": [
    {
     "data": {
      "text/plain": [
       "5"
      ]
     },
     "execution_count": 71,
     "metadata": {},
     "output_type": "execute_result"
    }
   ],
   "source": [
    "#this `sc.parallelize` is not rerun in this case\n",
    "wordsRDD.count()"
   ]
  },
  {
   "cell_type": "markdown",
   "metadata": {},
   "source": [
    "Where is this useful: it is when you have branching parts or loops, so that you dont do things again and again. Spark, being \"lazy\" will rerun the chain again. So `cache` or `persist` serves as a checkpoint, breaking the RDD chain or the *lineage*."
   ]
  },
  {
   "cell_type": "code",
   "execution_count": 72,
   "metadata": {},
   "outputs": [
    {
     "data": {
      "text/plain": [
       "{'cat': 'mammal',\n",
       " 'elephant': 'mammal',\n",
       " 'heron': 'bird',\n",
       " 'owl': 'bird',\n",
       " 'rat': 'mammal'}"
      ]
     },
     "execution_count": 72,
     "metadata": {},
     "output_type": "execute_result"
    }
   ],
   "source": [
    "birdsList=['heron','owl']\n",
    "animList=wordsList+birdsList\n",
    "animaldict={}\n",
    "for e in wordsList:\n",
    "    animaldict[e]='mammal'\n",
    "for e in birdsList:\n",
    "    animaldict[e]='bird'\n",
    "animaldict"
   ]
  },
  {
   "cell_type": "code",
   "execution_count": 74,
   "metadata": {},
   "outputs": [
    {
     "name": "stdout",
     "output_type": "stream",
     "text": [
      "5 2\n"
     ]
    }
   ],
   "source": [
    "animsrdd = sc.parallelize(animList, 4)\n",
    "animsrdd.cache()\n",
    "#below runs the whole chain but causes cache to be populated\n",
    "mammalcount=animsrdd.filter(lambda w: animaldict[w]=='mammal').count()\n",
    "#now only the filter is carried out\n",
    "birdcount=animsrdd.filter(lambda w: animaldict[w]=='bird').count()\n",
    "print(mammalcount, birdcount)"
   ]
  },
  {
   "cell_type": "code",
   "execution_count": 83,
   "metadata": {},
   "outputs": [
    {
     "name": "stdout",
     "output_type": "stream",
     "text": [
      "<map object at 0x0000023906389978>\n"
     ]
    }
   ],
   "source": [
    "def add1(x):\n",
    "    return x+1\n",
    "a = map(add1,[1,2,3])\n",
    "print(a)"
   ]
  },
  {
   "cell_type": "markdown",
   "metadata": {},
   "source": [
    "### Exercises: Fun with MapReduce\n",
    "\n",
    "Read http://spark.apache.org/docs/latest/programming-guide.html for some useful background and then try out the following exercises"
   ]
  },
  {
   "cell_type": "markdown",
   "metadata": {},
   "source": [
    "The file `./sparklect/english.stop.txt` contains a list of English stopwords, while the file `./sparklect/shakes/juliuscaesar.txt` contains the entire text of Shakespeare's 'Julius Caesar'.\n",
    "\n",
    "* Load all of the stopwords into a Python list\n",
    "* Load the text of Julius Caesar into an RDD using the `sparkcontext.textfile()` method. Call it `juliusrdd`."
   ]
  },
  {
   "cell_type": "code",
   "execution_count": 96,
   "metadata": {},
   "outputs": [
    {
     "data": {
      "text/plain": [
       "['1599', 'THE TRAGEDY OF JULIUS CAESAR', '', 'by William Shakespeare', '']"
      ]
     },
     "execution_count": 96,
     "metadata": {},
     "output_type": "execute_result"
    }
   ],
   "source": [
    "# your turn\n",
    "stopwords = pd.read_table('./sparklect/english.stop.txt')\n",
    "juliusrdd = sc.textFile('./sparklect/shakes/juliuscaesar.txt')\n",
    "juliusrdd.take(5)"
   ]
  },
  {
   "cell_type": "markdown",
   "metadata": {},
   "source": [
    "How many words does Julius Caesar have? *Hint: use `flatMap()`*."
   ]
  },
  {
   "cell_type": "code",
   "execution_count": 196,
   "metadata": {},
   "outputs": [
    {
     "data": {
      "text/plain": [
       "['1599',\n",
       " 'the',\n",
       " 'tragedy',\n",
       " 'of',\n",
       " 'julius',\n",
       " 'caesar',\n",
       " 'by',\n",
       " 'william',\n",
       " 'shakespeare',\n",
       " 'dramatis',\n",
       " 'personae',\n",
       " 'julius',\n",
       " 'caesar',\n",
       " 'roman',\n",
       " 'statesman',\n",
       " 'and',\n",
       " 'general',\n",
       " 'octavius',\n",
       " 'triumvir',\n",
       " 'after',\n",
       " 'caesars',\n",
       " 'death',\n",
       " 'later',\n",
       " 'augustus',\n",
       " 'caesar',\n",
       " 'first',\n",
       " 'emperor',\n",
       " 'of',\n",
       " 'rome',\n",
       " 'mark',\n",
       " 'antony',\n",
       " 'general',\n",
       " 'and',\n",
       " 'friend',\n",
       " 'of',\n",
       " 'caesar',\n",
       " 'a',\n",
       " 'triumvir',\n",
       " 'after',\n",
       " 'his',\n",
       " 'death',\n",
       " 'lepidus',\n",
       " 'third',\n",
       " 'member',\n",
       " 'of',\n",
       " 'the',\n",
       " 'triumvirate',\n",
       " 'marcus',\n",
       " 'brutus',\n",
       " 'leader',\n",
       " 'of',\n",
       " 'the',\n",
       " 'conspiracy',\n",
       " 'against',\n",
       " 'caesar',\n",
       " 'cassius',\n",
       " 'instigator',\n",
       " 'of',\n",
       " 'the',\n",
       " 'conspiracy',\n",
       " 'casca',\n",
       " 'conspirator',\n",
       " 'against',\n",
       " 'caesar',\n",
       " 'trebonius',\n",
       " 'caius',\n",
       " 'ligarius',\n",
       " 'decius',\n",
       " 'brutus',\n",
       " 'metellus',\n",
       " 'cimber',\n",
       " 'cinna',\n",
       " 'calpurnia',\n",
       " 'wife',\n",
       " 'of',\n",
       " 'caesar',\n",
       " 'portia',\n",
       " 'wife',\n",
       " 'of',\n",
       " 'brutus',\n",
       " 'cicero',\n",
       " 'senator',\n",
       " 'popilius',\n",
       " 'popilius',\n",
       " 'lena',\n",
       " 'flavius',\n",
       " 'tribune',\n",
       " 'marullus',\n",
       " 'tribune',\n",
       " 'cato',\n",
       " 'supportor',\n",
       " 'of',\n",
       " 'brutus',\n",
       " 'lucilius',\n",
       " 'titinius',\n",
       " 'messala',\n",
       " 'volumnius',\n",
       " 'artemidorus',\n",
       " 'a',\n",
       " 'teacher',\n",
       " 'of',\n",
       " 'rhetoric',\n",
       " 'cinna',\n",
       " 'a',\n",
       " 'poet',\n",
       " 'varro',\n",
       " 'servant',\n",
       " 'to',\n",
       " 'brutus',\n",
       " 'clitus',\n",
       " 'claudio',\n",
       " 'strato',\n",
       " 'lucius',\n",
       " 'dardanius',\n",
       " 'pindarus',\n",
       " 'servant',\n",
       " 'to',\n",
       " 'cassius',\n",
       " 'the',\n",
       " 'ghost',\n",
       " 'of',\n",
       " 'caesar',\n",
       " 'a',\n",
       " 'soothsayer',\n",
       " 'a',\n",
       " 'poet',\n",
       " 'senators',\n",
       " 'citizens',\n",
       " 'soldiers',\n",
       " 'commoners',\n",
       " 'messengers',\n",
       " 'and',\n",
       " 'servants',\n",
       " 'this',\n",
       " 'electronic',\n",
       " 'version',\n",
       " 'of',\n",
       " 'the',\n",
       " 'complete',\n",
       " 'works',\n",
       " 'of',\n",
       " 'william',\n",
       " 'shakespeare',\n",
       " 'is',\n",
       " 'copyright',\n",
       " '19901993',\n",
       " 'by',\n",
       " 'world',\n",
       " 'library',\n",
       " 'inc',\n",
       " 'and',\n",
       " 'is',\n",
       " 'provided',\n",
       " 'by',\n",
       " 'project',\n",
       " 'gutenberg',\n",
       " 'etext',\n",
       " 'of',\n",
       " 'carnegie',\n",
       " 'mellon',\n",
       " 'university',\n",
       " 'with',\n",
       " 'permission',\n",
       " 'electronic',\n",
       " 'and',\n",
       " 'machine',\n",
       " 'readable',\n",
       " 'copies',\n",
       " 'may',\n",
       " 'be',\n",
       " 'distributed',\n",
       " 'so',\n",
       " 'long',\n",
       " 'as',\n",
       " 'such',\n",
       " 'copies',\n",
       " '1',\n",
       " 'are',\n",
       " 'for',\n",
       " 'your',\n",
       " 'or',\n",
       " 'others',\n",
       " 'personal',\n",
       " 'use',\n",
       " 'only',\n",
       " 'and',\n",
       " '2',\n",
       " 'are',\n",
       " 'not',\n",
       " 'distributed',\n",
       " 'or',\n",
       " 'used',\n",
       " 'commercially',\n",
       " 'prohibited',\n",
       " 'commercial',\n",
       " 'distribution',\n",
       " 'includes',\n",
       " 'by',\n",
       " 'any',\n",
       " 'service',\n",
       " 'that',\n",
       " 'charges',\n",
       " 'for',\n",
       " 'download',\n",
       " 'time',\n",
       " 'or',\n",
       " 'for',\n",
       " 'membership',\n",
       " 'scene',\n",
       " 'rome',\n",
       " 'the',\n",
       " 'conspirators',\n",
       " 'camp',\n",
       " 'near',\n",
       " 'sardis',\n",
       " 'and',\n",
       " 'the',\n",
       " 'plains',\n",
       " 'of',\n",
       " 'philippi',\n",
       " 'act',\n",
       " 'i',\n",
       " 'scene',\n",
       " 'i',\n",
       " 'rome',\n",
       " 'a',\n",
       " 'street',\n",
       " 'enter',\n",
       " 'flavius',\n",
       " 'marullus',\n",
       " 'and',\n",
       " 'certain',\n",
       " 'commoners',\n",
       " 'flavius',\n",
       " 'hence',\n",
       " 'home',\n",
       " 'you',\n",
       " 'idle',\n",
       " 'creatures',\n",
       " 'get',\n",
       " 'you',\n",
       " 'home',\n",
       " 'is',\n",
       " 'this',\n",
       " 'a',\n",
       " 'holiday',\n",
       " 'what',\n",
       " 'know',\n",
       " 'you',\n",
       " 'not',\n",
       " 'being',\n",
       " 'mechanical',\n",
       " 'you',\n",
       " 'ought',\n",
       " 'not',\n",
       " 'walk',\n",
       " 'upon',\n",
       " 'a',\n",
       " 'laboring',\n",
       " 'day',\n",
       " 'without',\n",
       " 'the',\n",
       " 'sign',\n",
       " 'of',\n",
       " 'your',\n",
       " 'profession',\n",
       " 'speak',\n",
       " 'what',\n",
       " 'trade',\n",
       " 'art',\n",
       " 'thou',\n",
       " 'first',\n",
       " 'commoner',\n",
       " 'why',\n",
       " 'sir',\n",
       " 'a',\n",
       " 'carpenter',\n",
       " 'marullus',\n",
       " 'where',\n",
       " 'is',\n",
       " 'thy',\n",
       " 'leather',\n",
       " 'apron',\n",
       " 'and',\n",
       " 'thy',\n",
       " 'rule',\n",
       " 'what',\n",
       " 'dost',\n",
       " 'thou',\n",
       " 'with',\n",
       " 'thy',\n",
       " 'best',\n",
       " 'apparel',\n",
       " 'on',\n",
       " 'you',\n",
       " 'sir',\n",
       " 'what',\n",
       " 'trade',\n",
       " 'are',\n",
       " 'you',\n",
       " 'second',\n",
       " 'commoner',\n",
       " 'truly',\n",
       " 'sir',\n",
       " 'in',\n",
       " 'respect',\n",
       " 'of',\n",
       " 'a',\n",
       " 'fine',\n",
       " 'workman',\n",
       " 'i',\n",
       " 'am',\n",
       " 'but',\n",
       " 'as',\n",
       " 'you',\n",
       " 'would',\n",
       " 'say',\n",
       " 'a',\n",
       " 'cobbler',\n",
       " 'marullus',\n",
       " 'but',\n",
       " 'what',\n",
       " 'trade',\n",
       " 'art',\n",
       " 'thou',\n",
       " 'answer',\n",
       " 'me',\n",
       " 'directly',\n",
       " 'second',\n",
       " 'commoner',\n",
       " 'a',\n",
       " 'trade',\n",
       " 'sir',\n",
       " 'that',\n",
       " 'i',\n",
       " 'hope',\n",
       " 'i',\n",
       " 'may',\n",
       " 'use',\n",
       " 'with',\n",
       " 'a',\n",
       " 'safe',\n",
       " 'conscience',\n",
       " 'which',\n",
       " 'is',\n",
       " 'indeed',\n",
       " 'sir',\n",
       " 'a',\n",
       " 'mender',\n",
       " 'of',\n",
       " 'bad',\n",
       " 'soles',\n",
       " 'marullus',\n",
       " 'what',\n",
       " 'trade',\n",
       " 'thou',\n",
       " 'knave',\n",
       " 'thou',\n",
       " 'naughty',\n",
       " 'knave',\n",
       " 'what',\n",
       " 'trade',\n",
       " 'second',\n",
       " 'commoner',\n",
       " 'nay',\n",
       " 'i',\n",
       " 'beseech',\n",
       " 'you',\n",
       " 'sir',\n",
       " 'be',\n",
       " 'not',\n",
       " 'out',\n",
       " 'with',\n",
       " 'me',\n",
       " 'yet',\n",
       " 'if',\n",
       " 'you',\n",
       " 'be',\n",
       " 'out',\n",
       " 'sir',\n",
       " 'i',\n",
       " 'can',\n",
       " 'mend',\n",
       " 'you',\n",
       " 'marullus',\n",
       " 'what',\n",
       " 'meanst',\n",
       " 'thou',\n",
       " 'by',\n",
       " 'that',\n",
       " 'mend',\n",
       " 'me',\n",
       " 'thou',\n",
       " 'saucy',\n",
       " 'fellow',\n",
       " 'second',\n",
       " 'commoner',\n",
       " 'why',\n",
       " 'sir',\n",
       " 'cobble',\n",
       " 'you',\n",
       " 'flavius',\n",
       " 'thou',\n",
       " 'art',\n",
       " 'a',\n",
       " 'cobbler',\n",
       " 'art',\n",
       " 'thou',\n",
       " 'second',\n",
       " 'commoner',\n",
       " 'truly',\n",
       " 'sir',\n",
       " 'all',\n",
       " 'that',\n",
       " 'i',\n",
       " 'live',\n",
       " 'by',\n",
       " 'is',\n",
       " 'with',\n",
       " 'the',\n",
       " 'awl',\n",
       " 'i',\n",
       " 'meddle',\n",
       " 'with',\n",
       " 'no',\n",
       " 'tradesmans',\n",
       " 'matters',\n",
       " 'nor',\n",
       " 'womens',\n",
       " 'matters',\n",
       " 'but',\n",
       " 'with',\n",
       " 'awl',\n",
       " 'i',\n",
       " 'am',\n",
       " 'indeed',\n",
       " 'sir',\n",
       " 'a',\n",
       " 'surgeon',\n",
       " 'to',\n",
       " 'old',\n",
       " 'shoes',\n",
       " 'when',\n",
       " 'they',\n",
       " 'are',\n",
       " 'in',\n",
       " 'great',\n",
       " 'danger',\n",
       " 'i',\n",
       " 'recover',\n",
       " 'them',\n",
       " 'as',\n",
       " 'proper',\n",
       " 'men',\n",
       " 'as',\n",
       " 'ever',\n",
       " 'trod',\n",
       " 'upon',\n",
       " 'neats',\n",
       " 'leather',\n",
       " 'have',\n",
       " 'gone',\n",
       " 'upon',\n",
       " 'my',\n",
       " 'handiwork',\n",
       " 'flavius',\n",
       " 'but',\n",
       " 'wherefore',\n",
       " 'art',\n",
       " 'not',\n",
       " 'in',\n",
       " 'thy',\n",
       " 'shop',\n",
       " 'today',\n",
       " 'why',\n",
       " 'dost',\n",
       " 'thou',\n",
       " 'lead',\n",
       " 'these',\n",
       " 'men',\n",
       " 'about',\n",
       " 'the',\n",
       " 'streets',\n",
       " 'second',\n",
       " 'commoner',\n",
       " 'truly',\n",
       " 'sir',\n",
       " 'to',\n",
       " 'wear',\n",
       " 'out',\n",
       " 'their',\n",
       " 'shoes',\n",
       " 'to',\n",
       " 'get',\n",
       " 'myself',\n",
       " 'into',\n",
       " 'more',\n",
       " 'work',\n",
       " 'but',\n",
       " 'indeed',\n",
       " 'sir',\n",
       " 'we',\n",
       " 'make',\n",
       " 'holiday',\n",
       " 'to',\n",
       " 'see',\n",
       " 'caesar',\n",
       " 'and',\n",
       " 'to',\n",
       " 'rejoice',\n",
       " 'in',\n",
       " 'his',\n",
       " 'triumph',\n",
       " 'marullus',\n",
       " 'wherefore',\n",
       " 'rejoice',\n",
       " 'what',\n",
       " 'conquest',\n",
       " 'brings',\n",
       " 'he',\n",
       " 'home',\n",
       " 'what',\n",
       " 'tributaries',\n",
       " 'follow',\n",
       " 'him',\n",
       " 'to',\n",
       " 'rome',\n",
       " 'to',\n",
       " 'grace',\n",
       " 'in',\n",
       " 'captive',\n",
       " 'bonds',\n",
       " 'his',\n",
       " 'chariot',\n",
       " 'wheels',\n",
       " 'you',\n",
       " 'blocks',\n",
       " 'you',\n",
       " 'stones',\n",
       " 'you',\n",
       " 'worse',\n",
       " 'than',\n",
       " 'senseless',\n",
       " 'things',\n",
       " 'o',\n",
       " 'you',\n",
       " 'hard',\n",
       " 'hearts',\n",
       " 'you',\n",
       " 'cruel',\n",
       " 'men',\n",
       " 'of',\n",
       " 'rome',\n",
       " 'knew',\n",
       " 'you',\n",
       " 'not',\n",
       " 'pompey',\n",
       " 'many',\n",
       " 'a',\n",
       " 'time',\n",
       " 'and',\n",
       " 'oft',\n",
       " 'have',\n",
       " 'you',\n",
       " 'climbd',\n",
       " 'up',\n",
       " 'to',\n",
       " 'walls',\n",
       " 'and',\n",
       " 'battlements',\n",
       " 'to',\n",
       " 'towers',\n",
       " 'and',\n",
       " 'windows',\n",
       " 'yea',\n",
       " 'to',\n",
       " 'chimney',\n",
       " 'tops',\n",
       " 'your',\n",
       " 'infants',\n",
       " 'in',\n",
       " 'your',\n",
       " 'arms',\n",
       " 'and',\n",
       " 'there',\n",
       " 'have',\n",
       " 'sat',\n",
       " 'the',\n",
       " 'livelong',\n",
       " 'day',\n",
       " 'with',\n",
       " 'patient',\n",
       " 'expectation',\n",
       " 'to',\n",
       " 'see',\n",
       " 'great',\n",
       " 'pompey',\n",
       " 'pass',\n",
       " 'the',\n",
       " 'streets',\n",
       " 'of',\n",
       " 'rome',\n",
       " 'and',\n",
       " 'when',\n",
       " 'you',\n",
       " 'saw',\n",
       " 'his',\n",
       " 'chariot',\n",
       " 'but',\n",
       " 'appear',\n",
       " 'have',\n",
       " 'you',\n",
       " 'not',\n",
       " 'made',\n",
       " 'an',\n",
       " 'universal',\n",
       " 'shout',\n",
       " 'that',\n",
       " 'tiber',\n",
       " 'trembled',\n",
       " 'underneath',\n",
       " 'her',\n",
       " 'banks',\n",
       " 'to',\n",
       " 'hear',\n",
       " 'the',\n",
       " 'replication',\n",
       " 'of',\n",
       " 'your',\n",
       " 'sounds',\n",
       " 'made',\n",
       " 'in',\n",
       " 'her',\n",
       " 'concave',\n",
       " 'shores',\n",
       " 'and',\n",
       " 'do',\n",
       " 'you',\n",
       " 'now',\n",
       " 'put',\n",
       " 'on',\n",
       " 'your',\n",
       " 'best',\n",
       " 'attire',\n",
       " 'and',\n",
       " 'do',\n",
       " 'you',\n",
       " 'now',\n",
       " 'cull',\n",
       " 'out',\n",
       " 'a',\n",
       " 'holiday',\n",
       " 'and',\n",
       " 'do',\n",
       " 'you',\n",
       " 'now',\n",
       " 'strew',\n",
       " 'flowers',\n",
       " 'in',\n",
       " 'his',\n",
       " 'way',\n",
       " 'that',\n",
       " 'comes',\n",
       " 'in',\n",
       " 'triumph',\n",
       " 'over',\n",
       " 'pompeys',\n",
       " 'blood',\n",
       " 'be',\n",
       " 'gone',\n",
       " 'run',\n",
       " 'to',\n",
       " 'your',\n",
       " 'houses',\n",
       " 'fall',\n",
       " 'upon',\n",
       " 'your',\n",
       " 'knees',\n",
       " 'pray',\n",
       " 'to',\n",
       " 'the',\n",
       " 'gods',\n",
       " 'to',\n",
       " 'intermit',\n",
       " 'the',\n",
       " 'plague',\n",
       " 'that',\n",
       " 'needs',\n",
       " 'must',\n",
       " 'light',\n",
       " 'on',\n",
       " 'this',\n",
       " 'ingratitude',\n",
       " 'flavius',\n",
       " 'go',\n",
       " 'go',\n",
       " 'good',\n",
       " 'countrymen',\n",
       " 'and',\n",
       " 'for',\n",
       " 'this',\n",
       " 'fault',\n",
       " 'assemble',\n",
       " 'all',\n",
       " 'the',\n",
       " 'poor',\n",
       " 'men',\n",
       " 'of',\n",
       " 'your',\n",
       " 'sort',\n",
       " 'draw',\n",
       " 'them',\n",
       " 'to',\n",
       " 'tiber',\n",
       " 'banks',\n",
       " 'and',\n",
       " 'weep',\n",
       " 'your',\n",
       " 'tears',\n",
       " 'into',\n",
       " 'the',\n",
       " 'channel',\n",
       " 'till',\n",
       " 'the',\n",
       " 'lowest',\n",
       " 'stream',\n",
       " 'do',\n",
       " 'kiss',\n",
       " 'the',\n",
       " 'most',\n",
       " 'exalted',\n",
       " 'shores',\n",
       " 'of',\n",
       " 'all',\n",
       " 'exeunt',\n",
       " 'all',\n",
       " 'commoners',\n",
       " 'see',\n",
       " 'whether',\n",
       " 'their',\n",
       " 'basest',\n",
       " 'metal',\n",
       " 'be',\n",
       " 'not',\n",
       " 'moved',\n",
       " 'they',\n",
       " 'vanish',\n",
       " 'tonguetied',\n",
       " 'in',\n",
       " 'their',\n",
       " 'guiltiness',\n",
       " 'go',\n",
       " 'you',\n",
       " 'down',\n",
       " 'that',\n",
       " 'way',\n",
       " 'towards',\n",
       " 'the',\n",
       " 'capitol',\n",
       " 'this',\n",
       " 'way',\n",
       " 'will',\n",
       " 'i',\n",
       " 'disrobe',\n",
       " 'the',\n",
       " 'images',\n",
       " 'if',\n",
       " 'you',\n",
       " 'do',\n",
       " 'find',\n",
       " 'them',\n",
       " 'deckd',\n",
       " 'with',\n",
       " 'ceremonies',\n",
       " 'marullus',\n",
       " 'may',\n",
       " 'we',\n",
       " 'do',\n",
       " 'so',\n",
       " 'you',\n",
       " 'know',\n",
       " 'it',\n",
       " 'is',\n",
       " 'the',\n",
       " 'feast',\n",
       " 'of',\n",
       " 'lupercal',\n",
       " 'flavius',\n",
       " 'it',\n",
       " 'is',\n",
       " 'no',\n",
       " 'matter',\n",
       " 'let',\n",
       " 'no',\n",
       " 'images',\n",
       " 'be',\n",
       " 'hung',\n",
       " 'with',\n",
       " 'caesars',\n",
       " 'trophies',\n",
       " 'ill',\n",
       " 'about',\n",
       " 'and',\n",
       " 'drive',\n",
       " 'away',\n",
       " 'the',\n",
       " 'vulgar',\n",
       " 'from',\n",
       " 'the',\n",
       " 'streets',\n",
       " 'so',\n",
       " 'do',\n",
       " 'you',\n",
       " 'too',\n",
       " 'where',\n",
       " 'you',\n",
       " 'perceive',\n",
       " 'them',\n",
       " 'thick',\n",
       " 'these',\n",
       " 'growing',\n",
       " 'feathers',\n",
       " 'pluckd',\n",
       " 'from',\n",
       " 'caesars',\n",
       " 'wing',\n",
       " 'will',\n",
       " 'make',\n",
       " 'him',\n",
       " 'fly',\n",
       " 'an',\n",
       " 'ordinary',\n",
       " 'pitch',\n",
       " 'who',\n",
       " 'else',\n",
       " 'would',\n",
       " 'soar',\n",
       " 'above',\n",
       " 'the',\n",
       " 'view',\n",
       " 'of',\n",
       " 'men',\n",
       " 'and',\n",
       " 'keep',\n",
       " 'us',\n",
       " 'all',\n",
       " 'in',\n",
       " 'servile',\n",
       " 'fearfulness',\n",
       " 'exeunt',\n",
       " 'scene',\n",
       " 'ii',\n",
       " 'a',\n",
       " 'public',\n",
       " 'place',\n",
       " 'flourish',\n",
       " 'enter',\n",
       " 'caesar',\n",
       " 'antony',\n",
       " 'for',\n",
       " 'the',\n",
       " 'course',\n",
       " 'calpurnia',\n",
       " 'portia',\n",
       " 'decius',\n",
       " 'cicero',\n",
       " 'brutus',\n",
       " 'cassius',\n",
       " 'and',\n",
       " 'casca',\n",
       " 'a',\n",
       " 'great',\n",
       " 'crowd',\n",
       " 'follows',\n",
       " 'among',\n",
       " 'them',\n",
       " 'a',\n",
       " 'soothsayer',\n",
       " 'caesar',\n",
       " 'calpurnia',\n",
       " 'casca',\n",
       " 'peace',\n",
       " 'ho',\n",
       " 'caesar',\n",
       " 'speaks',\n",
       " 'music',\n",
       " 'ceases',\n",
       " 'caesar',\n",
       " 'calpurnia',\n",
       " 'calpurnia',\n",
       " 'here',\n",
       " 'my',\n",
       " 'lord',\n",
       " 'caesar',\n",
       " 'stand',\n",
       " 'you',\n",
       " 'directly',\n",
       " 'in',\n",
       " 'antonios',\n",
       " 'way',\n",
       " 'when',\n",
       " 'he',\n",
       " 'doth',\n",
       " 'run',\n",
       " 'his',\n",
       " 'course',\n",
       " 'antonio',\n",
       " 'antony',\n",
       " 'caesar',\n",
       " 'my',\n",
       " 'lord',\n",
       " 'caesar',\n",
       " 'forget',\n",
       " 'not',\n",
       " 'in',\n",
       " 'your',\n",
       " 'speed',\n",
       " 'antonio',\n",
       " 'to',\n",
       " 'touch',\n",
       " 'calpurnia',\n",
       " 'for',\n",
       " 'our',\n",
       " 'elders',\n",
       " 'say',\n",
       " 'the',\n",
       " 'barren',\n",
       " 'touched',\n",
       " 'in',\n",
       " 'this',\n",
       " 'holy',\n",
       " 'chase',\n",
       " 'shake',\n",
       " 'off',\n",
       " 'their',\n",
       " 'sterile',\n",
       " 'curse',\n",
       " 'antony',\n",
       " 'i',\n",
       " 'shall',\n",
       " 'remember',\n",
       " 'when',\n",
       " 'caesar',\n",
       " 'says',\n",
       " 'do',\n",
       " 'this',\n",
       " 'it',\n",
       " 'is',\n",
       " 'performd',\n",
       " 'caesar',\n",
       " 'set',\n",
       " 'on',\n",
       " 'and',\n",
       " 'leave',\n",
       " 'no',\n",
       " 'ceremony',\n",
       " 'out',\n",
       " 'flourish',\n",
       " 'soothsayer',\n",
       " 'caesar',\n",
       " 'caesar',\n",
       " 'ha',\n",
       " 'who',\n",
       " 'calls',\n",
       " 'casca',\n",
       " 'bid',\n",
       " 'every',\n",
       " 'noise',\n",
       " 'be',\n",
       " 'still',\n",
       " 'peace',\n",
       " 'yet',\n",
       " 'again',\n",
       " 'caesar',\n",
       " 'who',\n",
       " 'is',\n",
       " 'it',\n",
       " 'in',\n",
       " 'the',\n",
       " 'press',\n",
       " 'that',\n",
       " 'calls',\n",
       " 'on',\n",
       " 'me',\n",
       " 'i',\n",
       " 'hear',\n",
       " 'a',\n",
       " 'tongue',\n",
       " 'shriller',\n",
       " 'than',\n",
       " 'all',\n",
       " 'the',\n",
       " 'music',\n",
       " 'cry',\n",
       " 'caesar',\n",
       " 'speak',\n",
       " 'caesar',\n",
       " 'is',\n",
       " 'turnd',\n",
       " 'to',\n",
       " ...]"
      ]
     },
     "execution_count": 196,
     "metadata": {},
     "output_type": "execute_result"
    }
   ],
   "source": [
    "import nltk\n",
    "import string # your turn\n",
    "translator = str.maketrans('', '', string.punctuation)\n",
    "words = juliusrdd.flatMap(lambda x :(nltk.word_tokenize(x.lower().translate(translator))))\n",
    "words.collect()"
   ]
  },
  {
   "cell_type": "markdown",
   "metadata": {},
   "source": [
    "Now print the first 20 words of Julius Caesar as a Python list."
   ]
  },
  {
   "cell_type": "code",
   "execution_count": 197,
   "metadata": {},
   "outputs": [
    {
     "data": {
      "text/plain": [
       "['1599',\n",
       " 'the',\n",
       " 'tragedy',\n",
       " 'of',\n",
       " 'julius',\n",
       " 'caesar',\n",
       " 'by',\n",
       " 'william',\n",
       " 'shakespeare',\n",
       " 'dramatis',\n",
       " 'personae',\n",
       " 'julius',\n",
       " 'caesar',\n",
       " 'roman',\n",
       " 'statesman',\n",
       " 'and',\n",
       " 'general',\n",
       " 'octavius',\n",
       " 'triumvir',\n",
       " 'after']"
      ]
     },
     "execution_count": 197,
     "metadata": {},
     "output_type": "execute_result"
    }
   ],
   "source": [
    "# your turn\n",
    "words.take(20)\n"
   ]
  },
  {
   "cell_type": "markdown",
   "metadata": {},
   "source": [
    "Now print the first 20 words of Julius Caesar, **after removing all the stopwords**. *Hint: use `filter()`*."
   ]
  },
  {
   "cell_type": "code",
   "execution_count": 198,
   "metadata": {},
   "outputs": [
    {
     "data": {
      "text/plain": [
       "['1599',\n",
       " 'tragedy',\n",
       " 'julius',\n",
       " 'caesar',\n",
       " 'william',\n",
       " 'shakespeare',\n",
       " 'dramatis',\n",
       " 'personae',\n",
       " 'julius',\n",
       " 'caesar',\n",
       " 'roman',\n",
       " 'statesman',\n",
       " 'general',\n",
       " 'octavius',\n",
       " 'triumvir',\n",
       " 'caesars',\n",
       " 'death',\n",
       " 'later',\n",
       " 'augustus',\n",
       " 'caesar']"
      ]
     },
     "execution_count": 198,
     "metadata": {},
     "output_type": "execute_result"
    }
   ],
   "source": [
    "# your turn\n",
    "from nltk.corpus import stopwords\n",
    "filtered = words.filter(lambda x: x not in stopwords.words('english'))\n",
    "filtered.take(20)"
   ]
  },
  {
   "cell_type": "markdown",
   "metadata": {},
   "source": [
    "Now, use the word counting MapReduce code you've seen before. Count the number of times each word occurs and print the top 20 results as a list of tuples of the form `(word, count)`. *Hint: use `takeOrdered()` instead of `take()`*"
   ]
  },
  {
   "cell_type": "code",
   "execution_count": 199,
   "metadata": {},
   "outputs": [],
   "source": [
    "# your turn\n",
    "wordsRDD = sc.parallelize(filtered.collect(), 4)\n",
    "wordCounts = (wordsRDD\n",
    "                       .map(lambda w: (w, 1))\n",
    "                       .reduceByKey(lambda x,y: x+y)\n",
    "                       .sortByKey(lambda x:x)\n",
    "                       .collect())"
   ]
  },
  {
   "cell_type": "code",
   "execution_count": 200,
   "metadata": {},
   "outputs": [
    {
     "data": {
      "text/plain": [
       "(list, tuple)"
      ]
     },
     "execution_count": 200,
     "metadata": {},
     "output_type": "execute_result"
    }
   ],
   "source": [
    "type(wordCounts),type(wordCounts[0])"
   ]
  },
  {
   "cell_type": "code",
   "execution_count": 206,
   "metadata": {},
   "outputs": [
    {
     "data": {
      "text/plain": [
       "[('brutus', 366),\n",
       " ('caesar', 237),\n",
       " ('cassius', 227),\n",
       " ('antony', 128),\n",
       " ('shall', 125),\n",
       " ('thou', 116),\n",
       " ('come', 74),\n",
       " ('casca', 72),\n",
       " ('good', 71),\n",
       " ('citizen', 69),\n",
       " ('know', 68),\n",
       " ('well', 65),\n",
       " ('let', 64),\n",
       " ('men', 64),\n",
       " ('us', 63),\n",
       " ('lucius', 59),\n",
       " ('man', 56),\n",
       " ('thee', 54),\n",
       " ('thy', 54),\n",
       " ('upon', 48)]"
      ]
     },
     "execution_count": 206,
     "metadata": {},
     "output_type": "execute_result"
    }
   ],
   "source": [
    "sorted_wordCounts = sorted(wordCounts, key=lambda x: x[1],reverse = True)\n",
    "top20_wordsCounts = sorted_wordCounts[0:20]\n",
    "top20_wordsCounts"
   ]
  },
  {
   "cell_type": "markdown",
   "metadata": {},
   "source": [
    "Plot a bar graph. For each of the top 20 words on the X axis, represent the count on the Y axis."
   ]
  },
  {
   "cell_type": "code",
   "execution_count": 208,
   "metadata": {},
   "outputs": [],
   "source": [
    "top20_words = list(map(lambda x:x[0],top20_words))"
   ]
  },
  {
   "cell_type": "code",
   "execution_count": 228,
   "metadata": {},
   "outputs": [
    {
     "data": {
      "text/plain": [
       "<matplotlib.text.Text at 0x2390a1e5048>"
      ]
     },
     "execution_count": 228,
     "metadata": {},
     "output_type": "execute_result"
    },
    {
     "data": {
      "image/png": "[encoded data removed]",
      "text/plain": [
       "<matplotlib.figure.Figure at 0x23909da8a90>"
      ]
     },
     "metadata": {},
     "output_type": "display_data"
    }
   ],
   "source": [
    "# your turn\n",
    "count = map(lambda x:x[1],top20_wordsCounts)\n",
    "count_list = np.array(list(count))\n",
    "width = 0.5\n",
    "plt.figure(figsize=(15,10))\n",
    "plt.bar(np.arange(20), height=count_list,width=width)\n",
    "plt.xticks(np.arange(20),(top20_words))\n",
    "plt.xlabel('Words')\n",
    "plt.ylabel('Count')"
   ]
  },
  {
   "cell_type": "markdown",
   "metadata": {},
   "source": [
    "### Using partitions for parallelization"
   ]
  },
  {
   "cell_type": "markdown",
   "metadata": {},
   "source": [
    "In order to make your code more efficient, you want to use all of the available processing power, even on a single laptop. If your machine has multiple cores, you can tune the number of partitions to use all of them! From http://www.stat.berkeley.edu/scf/paciorek-spark-2014.html:\n",
    "\n",
    ">You want each partition to be able to fit in the memory availalbe on a node, and if you have multi-core nodes, you want that as many partitions as there are cores be able to fit in memory.\n",
    "\n",
    ">For load-balancing you'll want at least as many partitions as total computational cores in your cluster and probably rather more partitions. The Spark documentation suggests 2-4 partitions (which they also seem to call slices) per CPU. Often there are 100-10,000 partitions. Another rule of thumb is that tasks should take at least 100 ms. If less than that, you may want to repartition to have fewer partitions."
   ]
  },
  {
   "cell_type": "code",
   "execution_count": 229,
   "metadata": {
    "collapsed": true
   },
   "outputs": [],
   "source": [
    "shakesrdd=sc.textFile(\"./sparklect/shakes/*.txt\", minPartitions=4)"
   ]
  },
  {
   "cell_type": "code",
   "execution_count": 230,
   "metadata": {},
   "outputs": [
    {
     "data": {
      "text/plain": [
       "['1601',\n",
       " 'AS YOU LIKE IT',\n",
       " '',\n",
       " 'by William Shakespeare',\n",
       " '',\n",
       " '',\n",
       " '',\n",
       " 'DRAMATIS PERSONAE.',\n",
       " '',\n",
       " '']"
      ]
     },
     "execution_count": 230,
     "metadata": {},
     "output_type": "execute_result"
    }
   ],
   "source": [
    "shakesrdd.take(10)"
   ]
  },
  {
   "cell_type": "markdown",
   "metadata": {},
   "source": [
    "Now calculate the top 20 words in all of the files that you just read."
   ]
  },
  {
   "cell_type": "code",
   "execution_count": 232,
   "metadata": {
    "collapsed": true
   },
   "outputs": [],
   "source": [
    "import nltk\n",
    "import string # your turn\n",
    "translator = str.maketrans('', '', string.punctuation)\n",
    "words = shakesrdd.flatMap(lambda x :(nltk.word_tokenize(x.lower().translate(translator))))\n",
    "\n",
    "from nltk.corpus import stopwords\n",
    "filtered = words.filter(lambda x: x not in stopwords.words('english'))\n"
   ]
  },
  {
   "cell_type": "code",
   "execution_count": 236,
   "metadata": {
    "collapsed": true
   },
   "outputs": [],
   "source": [
    "wordsRDD = sc.parallelize(filtered.collect(), 4)\n",
    "wordCounts = (wordsRDD\n",
    "                       .map(lambda w: (w, 1))\n",
    "                       .reduceByKey(lambda x,y: x+y)\n",
    "                       .sortByKey(lambda x:x)\n",
    "                       .collect())\n"
   ]
  },
  {
   "cell_type": "code",
   "execution_count": 237,
   "metadata": {},
   "outputs": [
    {
     "data": {
      "text/plain": [
       "[('thou', 2129),\n",
       " ('thy', 1548),\n",
       " ('shall', 1418),\n",
       " ('sir', 1320),\n",
       " ('thee', 1257),\n",
       " ('good', 1200),\n",
       " ('come', 1150),\n",
       " ('lord', 1116),\n",
       " ('well', 1071),\n",
       " ('would', 950),\n",
       " ('love', 939),\n",
       " ('let', 926),\n",
       " ('enter', 892),\n",
       " ('go', 820),\n",
       " ('hath', 793),\n",
       " ('man', 783),\n",
       " ('ill', 768),\n",
       " ('know', 754),\n",
       " ('may', 721),\n",
       " ('say', 719)]"
      ]
     },
     "execution_count": 237,
     "metadata": {},
     "output_type": "execute_result"
    }
   ],
   "source": [
    "sorted_wordCounts = sorted(wordCounts, key=lambda x: x[1],reverse = True)\n",
    "top20_wordsCounts = sorted_wordCounts[0:20]\n",
    "top20_wordsCounts"
   ]
  },
  {
   "cell_type": "markdown",
   "metadata": {},
   "source": [
    "## Optional topic 1: DataFrames\n",
    "\n",
    "Pandas and Spark dataframes can be easily converted to each other, making it easier to work with different data formats. This section shows some examples of each."
   ]
  },
  {
   "cell_type": "markdown",
   "metadata": {},
   "source": [
    "Convert Spark DataFrame to Pandas\n",
    "\n",
    "`pandas_df = spark_df.toPandas()`\n",
    "\n",
    "Create a Spark DataFrame from Pandas\n",
    "\n",
    "`spark_df = context.createDataFrame(pandas_df)`\n",
    "\n",
    "Must fit in memory.\n",
    "\n",
    "![](https://ogirardot.files.wordpress.com/2015/05/rdd-vs-dataframe.png?w=640&h=360)\n",
    "\n",
    "VERY IMPORTANT: DataFrames in Spark are like RDD in the sense that they’re an immutable data structure."
   ]
  },
  {
   "cell_type": "code",
   "execution_count": 238,
   "metadata": {},
   "outputs": [
    {
     "data": {
      "text/html": [
       "<div>\n",
       "<style>\n",
       "    .dataframe thead tr:only-child th {\n",
       "        text-align: right;\n",
       "    }\n",
       "\n",
       "    .dataframe thead th {\n",
       "        text-align: left;\n",
       "    }\n",
       "\n",
       "    .dataframe tbody tr th {\n",
       "        vertical-align: top;\n",
       "    }\n",
       "</style>\n",
       "<table border=\"1\" class=\"dataframe\">\n",
       "  <thead>\n",
       "    <tr style=\"text-align: right;\">\n",
       "      <th></th>\n",
       "      <th>Gender</th>\n",
       "      <th>Height</th>\n",
       "      <th>Weight</th>\n",
       "    </tr>\n",
       "  </thead>\n",
       "  <tbody>\n",
       "    <tr>\n",
       "      <th>0</th>\n",
       "      <td>Male</td>\n",
       "      <td>73.847017</td>\n",
       "      <td>241.893563</td>\n",
       "    </tr>\n",
       "    <tr>\n",
       "      <th>1</th>\n",
       "      <td>Male</td>\n",
       "      <td>68.781904</td>\n",
       "      <td>162.310473</td>\n",
       "    </tr>\n",
       "    <tr>\n",
       "      <th>2</th>\n",
       "      <td>Male</td>\n",
       "      <td>74.110105</td>\n",
       "      <td>212.740856</td>\n",
       "    </tr>\n",
       "    <tr>\n",
       "      <th>3</th>\n",
       "      <td>Male</td>\n",
       "      <td>71.730978</td>\n",
       "      <td>220.042470</td>\n",
       "    </tr>\n",
       "    <tr>\n",
       "      <th>4</th>\n",
       "      <td>Male</td>\n",
       "      <td>69.881796</td>\n",
       "      <td>206.349801</td>\n",
       "    </tr>\n",
       "  </tbody>\n",
       "</table>\n",
       "</div>"
      ],
      "text/plain": [
       "  Gender     Height      Weight\n",
       "0   Male  73.847017  241.893563\n",
       "1   Male  68.781904  162.310473\n",
       "2   Male  74.110105  212.740856\n",
       "3   Male  71.730978  220.042470\n",
       "4   Male  69.881796  206.349801"
      ]
     },
     "execution_count": 238,
     "metadata": {},
     "output_type": "execute_result"
    }
   ],
   "source": [
    "df=pd.read_csv(\"sparklect/01_heights_weights_genders.csv\")\n",
    "df.head()"
   ]
  },
  {
   "cell_type": "markdown",
   "metadata": {},
   "source": [
    "Convert this pandas dataframe to a Spark dataframe"
   ]
  },
  {
   "cell_type": "code",
   "execution_count": 239,
   "metadata": {},
   "outputs": [
    {
     "data": {
      "text/plain": [
       "DataFrame[Gender: string, Height: double, Weight: double]"
      ]
     },
     "execution_count": 239,
     "metadata": {},
     "output_type": "execute_result"
    }
   ],
   "source": [
    "from pyspark.sql import SQLContext\n",
    "sqlsc=SQLContext(sc)\n",
    "sparkdf = sqlsc.createDataFrame(df)\n",
    "sparkdf"
   ]
  },
  {
   "cell_type": "code",
   "execution_count": 240,
   "metadata": {},
   "outputs": [
    {
     "name": "stdout",
     "output_type": "stream",
     "text": [
      "+------+-----------------+----------------+\n",
      "|Gender|           Height|          Weight|\n",
      "+------+-----------------+----------------+\n",
      "|  Male|  73.847017017515|241.893563180437|\n",
      "|  Male|68.78190404589029|  162.3104725213|\n",
      "|  Male|74.11010539178491|  212.7408555565|\n",
      "|  Male| 71.7309784033377|220.042470303077|\n",
      "|  Male| 69.8817958611153|206.349800623871|\n",
      "+------+-----------------+----------------+\n",
      "only showing top 5 rows\n",
      "\n"
     ]
    }
   ],
   "source": [
    "sparkdf.show(5)"
   ]
  },
  {
   "cell_type": "code",
   "execution_count": 241,
   "metadata": {},
   "outputs": [
    {
     "data": {
      "text/plain": [
       "pyspark.sql.column.Column"
      ]
     },
     "execution_count": 241,
     "metadata": {},
     "output_type": "execute_result"
    }
   ],
   "source": [
    "type(sparkdf.Gender)"
   ]
  },
  {
   "cell_type": "code",
   "execution_count": 243,
   "metadata": {},
   "outputs": [
    {
     "name": "stdout",
     "output_type": "stream",
     "text": [
      "<class 'pyspark.rdd.PipelinedRDD'>\n"
     ]
    },
    {
     "data": {
      "text/plain": [
       "['Male',\n",
       " 'Male',\n",
       " 'Male',\n",
       " 'Male',\n",
       " 'Male',\n",
       " 'Male',\n",
       " 'Male',\n",
       " 'Male',\n",
       " 'Male',\n",
       " 'Male']"
      ]
     },
     "execution_count": 243,
     "metadata": {},
     "output_type": "execute_result"
    }
   ],
   "source": [
    "# You can't call .map() on a DataFrame directly - you first have to convert it into an RDD\n",
    "temp = sparkdf.rdd.map(lambda r: r.Gender)\n",
    "print(type(temp))\n",
    "temp.take(10)"
   ]
  },
  {
   "cell_type": "markdown",
   "metadata": {},
   "source": [
    "## Optional topic 2: Machine Learning using Spark\n",
    "\n"
   ]
  },
  {
   "cell_type": "code",
   "execution_count": 244,
   "metadata": {
    "collapsed": true
   },
   "outputs": [],
   "source": [
    "from pyspark.mllib.classification import LogisticRegressionWithLBFGS\n",
    "from pyspark.mllib.regression import LabeledPoint"
   ]
  },
  {
   "cell_type": "markdown",
   "metadata": {},
   "source": [
    "Now create a data set from the Spark dataframe"
   ]
  },
  {
   "cell_type": "code",
   "execution_count": 251,
   "metadata": {},
   "outputs": [
    {
     "data": {
      "text/plain": [
       "[LabeledPoint(1.0, [73.8470170175,241.89356318]),\n",
       " LabeledPoint(1.0, [68.7819040459,162.310472521]),\n",
       " LabeledPoint(1.0, [74.1101053918,212.740855557]),\n",
       " LabeledPoint(1.0, [71.7309784033,220.042470303]),\n",
       " LabeledPoint(1.0, [69.8817958611,206.349800624])]"
      ]
     },
     "execution_count": 251,
     "metadata": {},
     "output_type": "execute_result"
    }
   ],
   "source": [
    "data=sparkdf.rdd.map(lambda row: LabeledPoint(row.Gender=='Male',[row.Height, row.Weight]))\n",
    "data.take(5)"
   ]
  },
  {
   "cell_type": "code",
   "execution_count": 253,
   "metadata": {},
   "outputs": [
    {
     "data": {
      "text/plain": [
       "(1.0, DenseVector([73.847, 241.8936]))"
      ]
     },
     "execution_count": 253,
     "metadata": {},
     "output_type": "execute_result"
    }
   ],
   "source": [
    "data2=sparkdf.rdd.map(lambda row: LabeledPoint(row[0]=='Male',row[1:]))\n",
    "data2.take(1)[0].label, data2.take(1)[0].features"
   ]
  },
  {
   "cell_type": "markdown",
   "metadata": {},
   "source": [
    "Split the data set into training and test sets"
   ]
  },
  {
   "cell_type": "code",
   "execution_count": 254,
   "metadata": {},
   "outputs": [
    {
     "data": {
      "text/plain": [
       "PythonRDD[274] at RDD at PythonRDD.scala:48"
      ]
     },
     "execution_count": 254,
     "metadata": {},
     "output_type": "execute_result"
    }
   ],
   "source": [
    "train, test = data.randomSplit([0.7,0.3])\n",
    "train.cache()\n",
    "test.cache()"
   ]
  },
  {
   "cell_type": "code",
   "execution_count": 255,
   "metadata": {},
   "outputs": [
    {
     "data": {
      "text/plain": [
       "pyspark.rdd.PipelinedRDD"
      ]
     },
     "execution_count": 255,
     "metadata": {},
     "output_type": "execute_result"
    }
   ],
   "source": [
    "type(train)"
   ]
  },
  {
   "cell_type": "markdown",
   "metadata": {},
   "source": [
    "Train the logistic regression model using MLIB"
   ]
  },
  {
   "cell_type": "code",
   "execution_count": 256,
   "metadata": {
    "collapsed": true
   },
   "outputs": [],
   "source": [
    "model = LogisticRegressionWithLBFGS.train(train)"
   ]
  },
  {
   "cell_type": "code",
   "execution_count": 257,
   "metadata": {},
   "outputs": [
    {
     "data": {
      "text/plain": [
       "DenseVector([-0.4781, 0.1966])"
      ]
     },
     "execution_count": 257,
     "metadata": {},
     "output_type": "execute_result"
    }
   ],
   "source": [
    "model.weights"
   ]
  },
  {
   "cell_type": "markdown",
   "metadata": {},
   "source": [
    "Run it on the test data"
   ]
  },
  {
   "cell_type": "code",
   "execution_count": 259,
   "metadata": {},
   "outputs": [
    {
     "name": "stdout",
     "output_type": "stream",
     "text": [
      "[(1.0, 1.0), (1.0, 1.0), (1.0, 1.0), (1.0, 1.0), (1.0, 1.0), (1.0, 1.0), (1.0, 1.0), (1.0, 1.0), (1.0, 1.0), (1.0, 1.0)]\n"
     ]
    },
    {
     "data": {
      "text/plain": [
       "pyspark.rdd.PipelinedRDD"
      ]
     },
     "execution_count": 259,
     "metadata": {},
     "output_type": "execute_result"
    }
   ],
   "source": [
    "results = test.map(lambda lp: (lp.label, float(model.predict(lp.features))))\n",
    "print(results.take(10))\n",
    "type(results)                       "
   ]
  },
  {
   "cell_type": "markdown",
   "metadata": {},
   "source": [
    "Measure accuracy and other metrics"
   ]
  },
  {
   "cell_type": "code",
   "execution_count": null,
   "metadata": {},
   "outputs": [],
   "source": [
    "test_accuracy=results.filter(lambda x: x[0]==x[1]).count()/float(results.count())\n",
    "test_accuracy"
   ]
  },
  {
   "cell_type": "code",
   "execution_count": 261,
   "metadata": {
    "collapsed": true
   },
   "outputs": [],
   "source": [
    "from pyspark.mllib.evaluation import BinaryClassificationMetrics\n",
    "metrics = BinaryClassificationMetrics(results)"
   ]
  },
  {
   "cell_type": "code",
   "execution_count": 263,
   "metadata": {},
   "outputs": [
    {
     "name": "stdout",
     "output_type": "stream",
     "text": [
      "<class 'pyspark.mllib.evaluation.BinaryClassificationMetrics'>\n"
     ]
    },
    {
     "data": {
      "text/plain": [
       "0.9201142464503989"
      ]
     },
     "execution_count": 263,
     "metadata": {},
     "output_type": "execute_result"
    }
   ],
   "source": [
    "print(type(metrics))\n",
    "metrics.areaUnderROC"
   ]
  },
  {
   "cell_type": "code",
   "execution_count": null,
   "metadata": {},
   "outputs": [
    {
     "data": {
      "text/plain": [
       "pyspark.mllib.classification.LogisticRegressionModel"
      ]
     },
     "execution_count": 264,
     "metadata": {},
     "output_type": "execute_result"
    }
   ],
   "source": [
    "type(model)"
   ]
  },
  {
   "cell_type": "code",
   "execution_count": null,
   "metadata": {
    "collapsed": true
   },
   "outputs": [],
   "source": [
    "!rm -rf mylogistic.model"
   ]
  },
  {
   "cell_type": "code",
   "execution_count": null,
   "metadata": {
    "collapsed": true
   },
   "outputs": [],
   "source": [
    "model.save(sc, \"mylogistic.model\")"
   ]
  },
  {
   "cell_type": "markdown",
   "metadata": {},
   "source": [
    "The pipeline API automates a lot of this stuff, allowing us to work directly on dataframes."
   ]
  },
  {
   "cell_type": "markdown",
   "metadata": {},
   "source": [
    "Also see:\n",
    "\n",
    "- http://jordicasanellas.weebly.com/data-science-blog/machine-learning-with-spark\n",
    "- http://spark.apache.org/docs/latest/mllib-guide.html\n",
    "- http://www.techpoweredmath.com/spark-dataframes-mllib-tutorial/\n",
    "- http://spark.apache.org/docs/latest/api/python/\n",
    "- http://spark.apache.org/docs/latest/programming-guide.html"
   ]
  },
  {
   "cell_type": "markdown",
   "metadata": {},
   "source": [
    "`rdd.saveAsTextFile()` saves an RDD as a string."
   ]
  },
  {
   "cell_type": "markdown",
   "metadata": {
    "collapsed": true
   },
   "source": [
    "## Optional Topic 3: Your Turn at Machine Learning! :)\n",
    "\n",
    "For this exercise, we're going to use one of the datasets we've already worked with: the Boston House Prices dataset. We're going to try a couple of regression algorithms, but from the SparkML library this time.\n",
    "\n",
    "Before you proceed, make sure to do an overview of the documentation: \n",
    "http://spark.apache.org/docs/latest/api/python/pyspark.ml.html"
   ]
  },
  {
   "cell_type": "code",
   "execution_count": null,
   "metadata": {
    "collapsed": true
   },
   "outputs": [],
   "source": [
    "# All imports go here\n",
    "\n",
    "\n"
   ]
  },
  {
   "cell_type": "markdown",
   "metadata": {},
   "source": [
    "First, we have to load the dataset, which resides as a CSV file in the folder for this exercise."
   ]
  },
  {
   "cell_type": "code",
   "execution_count": null,
   "metadata": {
    "collapsed": true
   },
   "outputs": [],
   "source": [
    "# Path: /sparklect/boston.csv\n"
   ]
  },
  {
   "cell_type": "markdown",
   "metadata": {},
   "source": [
    "Inspect the data to make sure everything is loaded properly."
   ]
  },
  {
   "cell_type": "code",
   "execution_count": null,
   "metadata": {
    "collapsed": true
   },
   "outputs": [],
   "source": []
  },
  {
   "cell_type": "markdown",
   "metadata": {},
   "source": [
    "Now we'll need to create a train/test split."
   ]
  },
  {
   "cell_type": "code",
   "execution_count": null,
   "metadata": {
    "collapsed": true
   },
   "outputs": [],
   "source": [
    "# We'll first have to vectorize the features\n"
   ]
  },
  {
   "cell_type": "markdown",
   "metadata": {},
   "source": [
    "As the next step, fit a Linear Regression model on the training set."
   ]
  },
  {
   "cell_type": "code",
   "execution_count": null,
   "metadata": {
    "collapsed": true
   },
   "outputs": [],
   "source": []
  },
  {
   "cell_type": "markdown",
   "metadata": {},
   "source": [
    "Now validate the model on the test set, and check the Root Mean Squared Error."
   ]
  },
  {
   "cell_type": "code",
   "execution_count": null,
   "metadata": {
    "collapsed": true
   },
   "outputs": [],
   "source": []
  },
  {
   "cell_type": "markdown",
   "metadata": {},
   "source": [
    "Let's compare Linear Regression with a more powerful algorithm - the Random Forest. As the Random Forest has several hyperparameters that can be tuned for maximum accuracy, we're going to need to use k-fold Cross Validation."
   ]
  },
  {
   "cell_type": "markdown",
   "metadata": {},
   "source": [
    "First, set up a grid for the hyperparameter search."
   ]
  },
  {
   "cell_type": "code",
   "execution_count": null,
   "metadata": {
    "collapsed": true
   },
   "outputs": [],
   "source": []
  },
  {
   "cell_type": "markdown",
   "metadata": {},
   "source": [
    "Now, with a Random Forest regressor using k-fold Cross Validation, and find the optimal combination of hyperparameters."
   ]
  },
  {
   "cell_type": "code",
   "execution_count": null,
   "metadata": {
    "collapsed": true
   },
   "outputs": [],
   "source": []
  },
  {
   "cell_type": "markdown",
   "metadata": {},
   "source": [
    "Finally, validate the model on the test set and check the Root Mean Squared Error again."
   ]
  },
  {
   "cell_type": "code",
   "execution_count": null,
   "metadata": {
    "collapsed": true
   },
   "outputs": [],
   "source": []
  },
  {
   "cell_type": "markdown",
   "metadata": {},
   "source": [
    "\n",
    "\n",
    "## Optional Topic 4: Model Your Capstone Dataset\n"
   ]
  },
  {
   "cell_type": "markdown",
   "metadata": {},
   "source": [
    "If you have time, load up the cleaned dataset from one of your capstone projects. Do you remember which algorithm and the accompanying combination of hyperparameters did the best job? For practice, try and implement the same model in SparkML."
   ]
  },
  {
   "cell_type": "code",
   "execution_count": null,
   "metadata": {
    "collapsed": true
   },
   "outputs": [],
   "source": []
  },
  {
   "cell_type": "code",
   "execution_count": null,
   "metadata": {
    "collapsed": true
   },
   "outputs": [],
   "source": [
    "# Stop Spark\n",
    "sc.stop()"
   ]
  }
 ],
 "metadata": {
  "kernelspec": {
   "display_name": "Python [conda root]",
   "language": "python",
   "name": "conda-root-py"
  },
  "language_info": {
   "codemirror_mode": {
    "name": "ipython",
    "version": 3
   },
   "file_extension": ".py",
   "mimetype": "text/x-python",
   "name": "python",
   "nbconvert_exporter": "python",
   "pygments_lexer": "ipython3",
   "version": "3.6.2"
  }
 },
 "nbformat": 4,
 "nbformat_minor": 1
}
